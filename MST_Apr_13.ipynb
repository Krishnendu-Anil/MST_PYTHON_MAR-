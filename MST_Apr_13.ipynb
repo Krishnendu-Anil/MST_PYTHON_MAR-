{
  "nbformat": 4,
  "nbformat_minor": 0,
  "metadata": {
    "colab": {
      "provenance": [],
      "authorship_tag": "ABX9TyOEp03FASGonohf2MbNaKqv",
      "include_colab_link": true
    },
    "kernelspec": {
      "name": "python3",
      "display_name": "Python 3"
    },
    "language_info": {
      "name": "python"
    }
  },
  "cells": [
    {
      "cell_type": "markdown",
      "metadata": {
        "id": "view-in-github",
        "colab_type": "text"
      },
      "source": [
        "<a href=\"https://colab.research.google.com/github/Krishnendu-Anil/MST_PYTHON_MAR-/blob/main/MST_Apr_13.ipynb\" target=\"_parent\"><img src=\"https://colab.research.google.com/assets/colab-badge.svg\" alt=\"Open In Colab\"/></a>"
      ]
    },
    {
      "cell_type": "markdown",
      "source": [
        "MST Python Week 2 Assignment"
      ],
      "metadata": {
        "id": "tConEVMe-Qr5"
      }
    },
    {
      "cell_type": "markdown",
      "source": [
        "1. Write an interactive Python Program to implement following “Guess Game”\n",
        "i. Think of a number between 1 and 10 and store it in a variable called \"secretNumber\".\n",
        "ii. Ask the user to enter a number between 1 and 10 and store it in a variable called \"guess\".\n",
        "iii. Use control statements (if-else) to check if the guess is correct, higher, or lower than the secret number.\n",
        "iv. Display appropriate messages to the user based on their guess:\n",
        "• If the guess is correct, display \"Congratulations! You guessed the number correctly!\"\n",
        "• If the guess is higher than the secret number, display \"Too high! Try again.\"\n",
        "• If the guess is lower than the secret number, display \"Too low! Try again.\"\n",
        "v. Allow the user to keep guessing until they guess the correct number."
      ],
      "metadata": {
        "id": "x6vWj0oi-WWn"
      }
    },
    {
      "cell_type": "code",
      "source": [
        "import random\n",
        "secretNumber =random.randint(1,10)\n",
        "while True:\n",
        "  Guess = (input(\"Enter your guess: \"))\n",
        "  if Guess==\"quit\":\n",
        "    break\n",
        "  Guess=int(Guess)\n",
        "  if secretNumber==Guess:\n",
        "    print(\"Congratulations! You guessed the number correctly!\")\n",
        "  elif Guess>secretNumber:\n",
        "    print(\"Too high! Try again.\")\n",
        "  else:\n",
        "    print(\"Too low! Try again\")\n",
        ""
      ],
      "metadata": {
        "colab": {
          "base_uri": "https://localhost:8080/"
        },
        "id": "xLJ4_MbT-dlJ",
        "outputId": "1c250b3e-dbf9-467f-923d-388f48af2ce8"
      },
      "execution_count": 9,
      "outputs": [
        {
          "name": "stdout",
          "output_type": "stream",
          "text": [
            "Enter your guess: 5\n",
            "Too low! Try again\n",
            "Enter your guess: 6\n",
            "Too low! Try again\n",
            "Enter your guess: 8\n",
            "Too low! Try again\n",
            "Enter your guess: 10\n",
            "Congratulations! You guessed the number correctly!\n",
            "Enter your guess: quit\n"
          ]
        }
      ]
    },
    {
      "cell_type": "markdown",
      "source": [
        "2. Write a program to find and print the Factorial of this number. The Factorial of a positive integer N refers to the product of all number in the range from 1 to N. • Roy wants to change his profile picture on Facebook. Now Facebook has some restriction over the dimension of picture that we can upload. Minimum dimension of the picture can be L x L, where L is the length of the side of square. Now Roy has N photos of various dimensions. Dimension of a photo is denoted as W x H where W - width of the photo and H - Height of the photo • When any photo is uploaded following events may occur: [1] If any of the width or height is less than L, user is prompted to upload another one. Print \"UPLOAD ANOTHER\" in this case.\n",
        "[2] If width and height, both are large enough and (a) if the photo is already square then it is accepted. Print \"ACCEPTED\" in this case. (b) else user is prompted to crop it. Print \"CROP IT\" in this case. Given L, N, W and H as input, write a program to print appropriate text as output."
      ],
      "metadata": {
        "id": "O3sLzOel-9mp"
      }
    },
    {
      "cell_type": "code",
      "source": [
        "L = int(input(\"Enter minimum dimension of the picture: \"))\n",
        "N = int(input(\"Enter the number of photos: \"))\n",
        "for i in range(N):\n",
        "    W=int(input(\"Enter width\"))\n",
        "    H=int(input(\"Enter height\"))\n",
        "    if W < L or H < L:\n",
        "        print(\"UPLOAD ANOTHER\")\n",
        "    elif W == H:\n",
        "        print(\"ACCEPTED\")\n",
        "    else:\n",
        "        print(\"CROP IT\")\n",
        ""
      ],
      "metadata": {
        "colab": {
          "base_uri": "https://localhost:8080/"
        },
        "id": "tCB9lZKnGNiD",
        "outputId": "9c4552ac-3b52-45ff-fb62-13c11fd1a0f7"
      },
      "execution_count": 14,
      "outputs": [
        {
          "output_type": "stream",
          "name": "stdout",
          "text": [
            "Enter minimum dimension of the picture: 4\n",
            "Enter the number of photos: 6\n",
            "Enter width5\n",
            "Enter height4\n",
            "CROP IT\n",
            "Enter width6\n",
            "Enter height7\n",
            "CROP IT\n",
            "Enter width5\n",
            "Enter height5\n",
            "ACCEPTED\n",
            "Enter width3\n",
            "Enter height2\n",
            "UPLOAD ANOTHER\n",
            "Enter width6\n",
            "Enter height6\n",
            "ACCEPTED\n",
            "Enter width5\n",
            "Enter height3\n",
            "UPLOAD ANOTHER\n"
          ]
        }
      ]
    }
  ]
}