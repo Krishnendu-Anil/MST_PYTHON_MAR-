{
  "nbformat": 4,
  "nbformat_minor": 0,
  "metadata": {
    "colab": {
      "provenance": [],
      "authorship_tag": "ABX9TyM42gLKCS701LYETFUGEKXw",
      "include_colab_link": true
    },
    "kernelspec": {
      "name": "python3",
      "display_name": "Python 3"
    },
    "language_info": {
      "name": "python"
    }
  },
  "cells": [
    {
      "cell_type": "markdown",
      "metadata": {
        "id": "view-in-github",
        "colab_type": "text"
      },
      "source": [
        "<a href=\"https://colab.research.google.com/github/Krishnendu-Anil/MST_PYTHON_MAR-/blob/main/ICTDay5.ipynb\" target=\"_parent\"><img src=\"https://colab.research.google.com/assets/colab-badge.svg\" alt=\"Open In Colab\"/></a>"
      ]
    },
    {
      "cell_type": "markdown",
      "source": [
        "1. Write a function that returns the middle value among three integers.Write code to test this function with different inputs\n"
      ],
      "metadata": {
        "id": "SwzPC5SkgKaD"
      }
    },
    {
      "cell_type": "code",
      "source": [
        "def number1(a, b, c):\n",
        "    sorted_values = sorted([a, b, c])\n",
        "    return sorted_values[1]\n",
        "\n",
        "number1(11,5,27)"
      ],
      "metadata": {
        "colab": {
          "base_uri": "https://localhost:8080/"
        },
        "id": "uSLmYZJogMoc",
        "outputId": "2587f3ce-e159-4aec-a9ae-47bd5407f9ec"
      },
      "execution_count": 2,
      "outputs": [
        {
          "output_type": "execute_result",
          "data": {
            "text/plain": [
              "11"
            ]
          },
          "metadata": {},
          "execution_count": 2
        }
      ]
    },
    {
      "cell_type": "markdown",
      "source": [
        "2. Build a calculator in Python using functions"
      ],
      "metadata": {
        "id": "8Kh8yNBDhNSD"
      }
    },
    {
      "cell_type": "code",
      "source": [
        "def add(a, b):\n",
        "    return a + b\n",
        "\n",
        "def subtract(a, b):\n",
        "    return a - b\n",
        "\n",
        "def multiply(a, b):\n",
        "    return a * b\n",
        "\n",
        "def divide(a, b):\n",
        "    return a / b\n",
        "\n",
        "print(\"Select operation:\")\n",
        "print(\"1. Add\")\n",
        "print(\"2. Subtract\")\n",
        "print(\"3. Multiply\")\n",
        "print(\"4. Divide\")\n",
        "while True:\n",
        "    choice = input(\"Enter choice (1/2/3/4): \")\n",
        "\n",
        "    if choice in ('1', '2', '3', '4'):\n",
        "        num1 = float(input(\"Enter first number: \"))\n",
        "        num2 = float(input(\"Enter second number: \"))\n",
        "        if choice == '1':\n",
        "            print(\"Result:\", add(num1, num2))\n",
        "        elif choice == '2':\n",
        "            print(\"Result:\", subtract(num1, num2))\n",
        "        elif choice == '3':\n",
        "            print(\"Result:\", multiply(num1, num2))\n",
        "        elif choice == '4':\n",
        "            if num2 == 0:\n",
        "                print(\"Cannot divide by zero.\")\n",
        "            else:\n",
        "                print(\"Result:\", divide(num1, num2))\n",
        "    elif choice == 'quit':\n",
        "        break\n",
        "    else:\n",
        "        print(\"Invalid Input\")\n",
        ""
      ],
      "metadata": {
        "colab": {
          "base_uri": "https://localhost:8080/"
        },
        "id": "aHrz-QwEiV-C",
        "outputId": "56d71e88-e567-4f2e-d020-0f2e9f1e6d1e"
      },
      "execution_count": 3,
      "outputs": [
        {
          "name": "stdout",
          "output_type": "stream",
          "text": [
            "Select operation:\n",
            "1. Add\n",
            "2. Subtract\n",
            "3. Multiply\n",
            "4. Divide\n",
            "Enter choice (1/2/3/4): 3\n",
            "Enter first number: 4\n",
            "Enter second number: 5\n",
            "Result: 20.0\n",
            "Enter choice (1/2/3/4): 5\n",
            "Invalid Input\n",
            "Enter choice (1/2/3/4): quit\n"
          ]
        }
      ]
    },
    {
      "cell_type": "markdown",
      "source": [
        "3. Write a function that takes the lengths of the two shorter sides of a right triangle as its\n",
        "parameters. Return the hypotenuse of the triangle, computed using Pythagorean theorem,\n",
        "as the function’s result."
      ],
      "metadata": {
        "id": "MyCU0G95jCUW"
      }
    },
    {
      "cell_type": "code",
      "source": [
        "def hypotenuse(a, b):\n",
        "    return (a*2 + b*2) ** 0.5\n",
        "hypotenuse(4,5)"
      ],
      "metadata": {
        "colab": {
          "base_uri": "https://localhost:8080/"
        },
        "id": "aoX96SbVjKCT",
        "outputId": "348c91d6-46b3-4f68-872e-2bb3229e2d8a"
      },
      "execution_count": 4,
      "outputs": [
        {
          "output_type": "execute_result",
          "data": {
            "text/plain": [
              "4.242640687119285"
            ]
          },
          "metadata": {},
          "execution_count": 4
        }
      ]
    },
    {
      "cell_type": "markdown",
      "source": [
        "The Rectangle problem (a) Write a Rectangle class in Python language, allowing you to build a rectangle with length and width attributes. (b) Create a Perimeter() method to calculate the perimeter of the rectangle and a Area() method to calculate the area of the rectangle. (c) Create a method display() that display the length, width, perimeter and area of an object created using an instantiation on rectangle class\n"
      ],
      "metadata": {
        "id": "z_VV-fN3l3Dj"
      }
    },
    {
      "cell_type": "code",
      "source": [
        "class Rectangle:\n",
        "    def __init__(self, length, width):\n",
        "        self.length = length\n",
        "        self.width = width\n",
        "\n",
        "    def perimeter(self):\n",
        "        return 2 * (self.length + self.width)\n",
        "\n",
        "    def area(self):\n",
        "        return self.length * self.width\n",
        "\n",
        "    def __repr__(self):\n",
        "        return f'Length: {self.length}\\nWidth: {self.width}\\nPerimeter: {self.perimeter()}\\nArea: {self.area()}'\n",
        "\n",
        "rect = Rectangle(24, 10)\n",
        "print(rect)\n",
        "\n"
      ],
      "metadata": {
        "colab": {
          "base_uri": "https://localhost:8080/"
        },
        "id": "R5vGIe4HmGdr",
        "outputId": "a3a0aef9-306a-4b4d-bb4a-fc1ffde5f71a"
      },
      "execution_count": 10,
      "outputs": [
        {
          "output_type": "stream",
          "name": "stdout",
          "text": [
            "Length: 24\n",
            "Width: 10\n",
            "Perimeter: 68\n",
            "Area: 240\n"
          ]
        }
      ]
    },
    {
      "cell_type": "markdown",
      "source": [
        "5. The Bank Account problem\n",
        "(a) Create a Python class called BankAccount which represents a bank account, having\n",
        "as attributes: accountNumber (numeric type), name (name of the account owner as\n",
        "string type), balance.\n",
        "(b) Create a constructor with parameters: accountNumber, name, balance.\n",
        "(c) Create a Deposit() method which manages the deposit actions.\n",
        "(d) Create a Withdrawal() method which manages withdrawals actions.\n",
        "(e) Create an bankFees() method to apply the bank fees with a percentage of 5% of the\n",
        "balance account.\n",
        "(f) Create a display() method to display account details."
      ],
      "metadata": {
        "id": "fW9Uz--youT1"
      }
    },
    {
      "cell_type": "code",
      "source": [
        "class BankAccount:\n",
        "    def __init__(self, accountNumber, name, balance):\n",
        "        self.accountNumber = accountNumber\n",
        "        self.name = name\n",
        "        self.balance = balance\n",
        "\n",
        "    def deposit(self, amount):\n",
        "        self.balance += amount\n",
        "        print(f\"Deposit of {amount} successfully made.\")\n",
        "\n",
        "    def withdrawal(self, amount):\n",
        "        if amount <= self.balance:\n",
        "            self.balance -= amount\n",
        "            print(f\"Withdrawal of {amount} successfully made.\")\n",
        "        else:\n",
        "            print(\"Insufficient funds.\")\n",
        "\n",
        "    def bankFees(self):\n",
        "        fee = self.balance * 0.05\n",
        "        self.balance -= fee\n",
        "        print(f\"Bank fees of {fee} deducted from the account.\")\n",
        "\n",
        "    def __repr__(self):\n",
        "        return f'accountNumber: {self.accountNumber}\\nname: {self.name}\\nbalance: {self.balance}'\n",
        "\n",
        "bank = BankAccount(1234, 'abc', 1000)\n",
        "bank.deposit(500)\n",
        "bank.withdrawal(200)\n",
        "bank.bankFees()\n",
        "print(bank)"
      ],
      "metadata": {
        "colab": {
          "base_uri": "https://localhost:8080/"
        },
        "id": "6NKUuEYho2Tx",
        "outputId": "b7e21d06-5d55-4b8a-ceaa-0fdad68f8c30"
      },
      "execution_count": 12,
      "outputs": [
        {
          "output_type": "stream",
          "name": "stdout",
          "text": [
            "Deposit of 500 successfully made.\n",
            "Withdrawal of 200 successfully made.\n",
            "Bank fees of 65.0 deducted from the account.\n",
            "accountNumber: 1234\n",
            "name: abc\n",
            "balance: 1235.0\n"
          ]
        }
      ]
    }
  ]
}