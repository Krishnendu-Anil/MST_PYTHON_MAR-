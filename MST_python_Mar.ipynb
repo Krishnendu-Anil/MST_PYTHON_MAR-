{
  "nbformat": 4,
  "nbformat_minor": 0,
  "metadata": {
    "colab": {
      "provenance": [],
      "authorship_tag": "ABX9TyMoRsq6si/pbmN10rb9e1Fo",
      "include_colab_link": true
    },
    "kernelspec": {
      "name": "python3",
      "display_name": "Python 3"
    },
    "language_info": {
      "name": "python"
    }
  },
  "cells": [
    {
      "cell_type": "markdown",
      "metadata": {
        "id": "view-in-github",
        "colab_type": "text"
      },
      "source": [
        "<a href=\"https://colab.research.google.com/github/Krishnendu-Anil/MST_PYTHON_MAR-/blob/main/MST_python_Mar.ipynb\" target=\"_parent\"><img src=\"https://colab.research.google.com/assets/colab-badge.svg\" alt=\"Open In Colab\"/></a>"
      ]
    },
    {
      "cell_type": "markdown",
      "source": [
        "Practice Problems Day 02"
      ],
      "metadata": {
        "id": "TqnnH172caYy"
      }
    },
    {
      "cell_type": "markdown",
      "source": [
        "1.\n",
        "Write a program to find sum of all elements in a list of integers."
      ],
      "metadata": {
        "id": "sM_5EWqpciQh"
      }
    },
    {
      "cell_type": "code",
      "source": [
        "listA = [1,2,3,4,5]\n",
        "print(sum(listA))"
      ],
      "metadata": {
        "colab": {
          "base_uri": "https://localhost:8080/"
        },
        "id": "HcjA2X-acnvV",
        "outputId": "a370d764-cfc0-4724-d404-354deb09eff9"
      },
      "execution_count": 1,
      "outputs": [
        {
          "output_type": "stream",
          "name": "stdout",
          "text": [
            "15\n"
          ]
        }
      ]
    },
    {
      "cell_type": "markdown",
      "source": [
        "2.\n",
        "Input a sentence as a string.\n",
        "a)\n",
        "Print its length\n",
        "\n",
        "\n"
      ],
      "metadata": {
        "id": "AIbCIlLzcz65"
      }
    },
    {
      "cell_type": "code",
      "source": [
        "str = (\"I am Krishnendu Anil, new admission in Python Programming.\")\n",
        "print(len(str))"
      ],
      "metadata": {
        "colab": {
          "base_uri": "https://localhost:8080/"
        },
        "id": "_f1LnsLUdGpK",
        "outputId": "6172ca67-54c4-4d8d-9876-ae4b73b876f6"
      },
      "execution_count": 2,
      "outputs": [
        {
          "output_type": "stream",
          "name": "stdout",
          "text": [
            "58\n"
          ]
        }
      ]
    },
    {
      "cell_type": "markdown",
      "source": [
        " b) Print the first half of string"
      ],
      "metadata": {
        "id": "OqBgS0Ecj-H2"
      }
    },
    {
      "cell_type": "code",
      "source": [
        "str = (\"I am Krishnendu Anil, new admission in Python Programming.\")\n",
        "print(len(str))\n",
        "print(len(str)/2)\n",
        "\n"
      ],
      "metadata": {
        "colab": {
          "base_uri": "https://localhost:8080/"
        },
        "id": "yxDxDRWhhQkB",
        "outputId": "2e5a16ac-5d08-40da-8fec-ab5d942638ed"
      },
      "execution_count": 3,
      "outputs": [
        {
          "output_type": "stream",
          "name": "stdout",
          "text": [
            "58\n",
            "29.0\n"
          ]
        }
      ]
    },
    {
      "cell_type": "code",
      "source": [
        "first_half = (str[:30])\n",
        "print(first_half)"
      ],
      "metadata": {
        "colab": {
          "base_uri": "https://localhost:8080/"
        },
        "id": "J12OdFgth6MC",
        "outputId": "3baea735-0e3a-437a-8b72-0a22b3dd79ec"
      },
      "execution_count": 5,
      "outputs": [
        {
          "output_type": "stream",
          "name": "stdout",
          "text": [
            "I am Krishnendu Anil, new admi\n"
          ]
        }
      ]
    },
    {
      "cell_type": "markdown",
      "source": [
        "5.\n",
        "Consider a string ”The day has been long”.\n",
        "(a)\n",
        "Delete the value at index =4"
      ],
      "metadata": {
        "id": "6ERFfgPPkR1A"
      }
    },
    {
      "cell_type": "code",
      "source": [
        "str = \"The day has been long\"\n",
        "print(str[:4]+str[5:])"
      ],
      "metadata": {
        "colab": {
          "base_uri": "https://localhost:8080/"
        },
        "id": "1iszQpcStHt-",
        "outputId": "4fb27d5a-ceea-4c86-f64d-3bd7954c17af"
      },
      "execution_count": 8,
      "outputs": [
        {
          "output_type": "stream",
          "name": "stdout",
          "text": [
            "The ay has been long\n"
          ]
        }
      ]
    },
    {
      "cell_type": "markdown",
      "source": [
        "(b)\n",
        "Print the string 4 times in a single line with space between each repetition"
      ],
      "metadata": {
        "id": "lfUB4k2-tStt"
      }
    },
    {
      "cell_type": "code",
      "source": [
        "str = \"The day has been long\"\n",
        "print((str +' ')*4)"
      ],
      "metadata": {
        "colab": {
          "base_uri": "https://localhost:8080/"
        },
        "id": "MJJGtBdctZMP",
        "outputId": "d0d439e4-e72b-4a57-abe3-82edb895f51a"
      },
      "execution_count": 10,
      "outputs": [
        {
          "output_type": "stream",
          "name": "stdout",
          "text": [
            "The day has been long The day has been long The day has been long The day has been long \n"
          ]
        }
      ]
    },
    {
      "cell_type": "markdown",
      "source": [
        "(c)\n",
        "Print the string 3 times in a new line each time\n"
      ],
      "metadata": {
        "id": "tAkZtDvlurCt"
      }
    },
    {
      "cell_type": "code",
      "source": [
        "str = \"The day has been long\"\n",
        "print(\"The day has been long \\n\" *3)"
      ],
      "metadata": {
        "colab": {
          "base_uri": "https://localhost:8080/"
        },
        "id": "ZxObiNEcu0mr",
        "outputId": "27224e1c-09e7-48ee-9562-133efe97d960"
      },
      "execution_count": 11,
      "outputs": [
        {
          "output_type": "stream",
          "name": "stdout",
          "text": [
            "The day has been long \n",
            "The day has been long \n",
            "The day has been long \n",
            "\n"
          ]
        }
      ]
    },
    {
      "cell_type": "markdown",
      "source": [
        "(d)\n",
        "Modify the string at index 7 as ’A’"
      ],
      "metadata": {
        "id": "uqIfI_1ZvMUe"
      }
    },
    {
      "cell_type": "code",
      "source": [
        "str = \"The day has been long\"\n",
        "print(str[:7] + \"A\" + str[8:])"
      ],
      "metadata": {
        "colab": {
          "base_uri": "https://localhost:8080/"
        },
        "id": "2JwJqOFEvVXE",
        "outputId": "0625771a-e463-4500-8fb7-d4eb60a39137"
      },
      "execution_count": 12,
      "outputs": [
        {
          "output_type": "stream",
          "name": "stdout",
          "text": [
            "The dayAhas been long\n"
          ]
        }
      ]
    },
    {
      "cell_type": "markdown",
      "source": [
        "(e)\n",
        "Print the string from index 4 to 15"
      ],
      "metadata": {
        "id": "RBVcVYhKveXv"
      }
    },
    {
      "cell_type": "code",
      "source": [
        "str = \"The day has been long\"\n",
        "print(str[4:15])\n"
      ],
      "metadata": {
        "colab": {
          "base_uri": "https://localhost:8080/"
        },
        "id": "Gy-BROxovkLA",
        "outputId": "cacbf5d2-d65b-42d1-aa21-c0387555780a"
      },
      "execution_count": 13,
      "outputs": [
        {
          "output_type": "stream",
          "name": "stdout",
          "text": [
            "day has bee\n"
          ]
        }
      ]
    },
    {
      "cell_type": "markdown",
      "source": [
        "(f)\n",
        "Print the final string with its length"
      ],
      "metadata": {
        "id": "cm4-N9jPv32T"
      }
    },
    {
      "cell_type": "code",
      "source": [
        "print(len(str))"
      ],
      "metadata": {
        "colab": {
          "base_uri": "https://localhost:8080/"
        },
        "id": "7yl4Hesrv8jf",
        "outputId": "01a897b6-d638-4e3b-a24d-03b4eccf8c90"
      },
      "execution_count": 14,
      "outputs": [
        {
          "output_type": "stream",
          "name": "stdout",
          "text": [
            "21\n"
          ]
        }
      ]
    },
    {
      "cell_type": "markdown",
      "source": [
        "4. Consider a list listA=[19,32,10,55,31,32,94,29,10,65,77,40,40]\n",
        "(a)\n",
        "Delete the first occurrence of 32"
      ],
      "metadata": {
        "id": "O2n3iA-7wZ7a"
      }
    },
    {
      "cell_type": "code",
      "source": [
        "listA = [19,32,10,55,31,32,94,29,10,65,77,40,40]\n",
        "listA.remove(32)\n",
        "print(listA)"
      ],
      "metadata": {
        "colab": {
          "base_uri": "https://localhost:8080/"
        },
        "id": "DJdARZP0wbDj",
        "outputId": "26cb6861-ee46-42f9-e482-2e9ed63725a0"
      },
      "execution_count": 15,
      "outputs": [
        {
          "output_type": "stream",
          "name": "stdout",
          "text": [
            "[19, 10, 55, 31, 32, 94, 29, 10, 65, 77, 40, 40]\n"
          ]
        }
      ]
    },
    {
      "cell_type": "markdown",
      "source": [
        "(b)\n",
        "Delete all occurrences of 40"
      ],
      "metadata": {
        "id": "ByRbFXki9MYu"
      }
    },
    {
      "cell_type": "code",
      "source": [
        "listA = [19,32,10,55,31,32,94,29,10,65,77,40,40]\n",
        "print(listA[:11])"
      ],
      "metadata": {
        "colab": {
          "base_uri": "https://localhost:8080/"
        },
        "id": "Ip_BU93yAudO",
        "outputId": "0d93669b-5432-45a5-ccd8-26f651e1eec2"
      },
      "execution_count": 16,
      "outputs": [
        {
          "output_type": "stream",
          "name": "stdout",
          "text": [
            "[19, 32, 10, 55, 31, 32, 94, 29, 10, 65, 77]\n"
          ]
        }
      ]
    },
    {
      "cell_type": "markdown",
      "source": [
        "(c)\n",
        "Delete the value at index=5"
      ],
      "metadata": {
        "id": "qtY--wbnD5pU"
      }
    },
    {
      "cell_type": "code",
      "source": [
        "listA = [19,32,10,55,31,32,94,29,10,65,77,40,40]\n",
        "del listA[5]\n",
        "print(listA)"
      ],
      "metadata": {
        "colab": {
          "base_uri": "https://localhost:8080/"
        },
        "id": "fSdFslp0D8iB",
        "outputId": "af011d17-cb7a-458c-cd40-00dd7f9096e0"
      },
      "execution_count": 17,
      "outputs": [
        {
          "output_type": "stream",
          "name": "stdout",
          "text": [
            "[19, 32, 10, 55, 31, 94, 29, 10, 65, 77, 40, 40]\n"
          ]
        }
      ]
    },
    {
      "cell_type": "markdown",
      "source": [
        "(d)\n",
        "Modify the value at index=9 as 300"
      ],
      "metadata": {
        "id": "JlpZ7BKuEf2R"
      }
    },
    {
      "cell_type": "code",
      "source": [
        "listA = [19,32,10,55,31,32,94,29,10,65,77,40,40]\n",
        "listA.insert(9,300)\n",
        "print(listA)"
      ],
      "metadata": {
        "colab": {
          "base_uri": "https://localhost:8080/"
        },
        "id": "8DyUbftrEkMY",
        "outputId": "569e79a5-8807-477e-d173-b8baffa4c570"
      },
      "execution_count": 19,
      "outputs": [
        {
          "output_type": "stream",
          "name": "stdout",
          "text": [
            "[19, 32, 10, 55, 31, 32, 94, 29, 10, 300, 65, 77, 40, 40]\n"
          ]
        }
      ]
    },
    {
      "cell_type": "markdown",
      "source": [
        "(e)\n",
        "Add 200 at index=2"
      ],
      "metadata": {
        "id": "umJ9_a_6ErQf"
      }
    },
    {
      "cell_type": "code",
      "source": [
        "listA = [19,32,10,55,31,32,94,29,10,65,77,40,40]\n",
        "listA.insert(2,200)\n",
        "print(listA)"
      ],
      "metadata": {
        "colab": {
          "base_uri": "https://localhost:8080/"
        },
        "id": "TUbelPRuEzmI",
        "outputId": "4839da4b-3887-4da3-82ba-171646e972af"
      },
      "execution_count": 20,
      "outputs": [
        {
          "output_type": "stream",
          "name": "stdout",
          "text": [
            "[19, 32, 200, 10, 55, 31, 32, 94, 29, 10, 65, 77, 40, 40]\n"
          ]
        }
      ]
    },
    {
      "cell_type": "markdown",
      "source": [
        "(f)\n",
        "Print the final list with its length, maximum value and sum of all elements"
      ],
      "metadata": {
        "id": "DMrquNzSE7RK"
      }
    },
    {
      "cell_type": "code",
      "source": [
        "listA = [19,32,10,55,31,32,94,29,10,65,77,40,40]\n",
        "print(len(listA))\n",
        "print(max(listA))\n",
        "print(sum(listA))\n"
      ],
      "metadata": {
        "colab": {
          "base_uri": "https://localhost:8080/"
        },
        "id": "Bg47ldb9E_Wz",
        "outputId": "a89d32e1-93e6-4a6a-832d-f8fe61260f9a"
      },
      "execution_count": 21,
      "outputs": [
        {
          "output_type": "stream",
          "name": "stdout",
          "text": [
            "13\n",
            "94\n",
            "534\n"
          ]
        }
      ]
    },
    {
      "cell_type": "markdown",
      "source": [
        "3.\n",
        "Write a program to enter a tuple of integers as (78,45,32,19,82,77,40,39). Change the third value in the tuple to 100\n"
      ],
      "metadata": {
        "id": "zEcdZXhIFpY6"
      }
    },
    {
      "cell_type": "markdown",
      "source": [],
      "metadata": {
        "id": "hgRkXqwbF2Gh"
      }
    }
  ]
}