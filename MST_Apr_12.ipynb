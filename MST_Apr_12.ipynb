{
  "nbformat": 4,
  "nbformat_minor": 0,
  "metadata": {
    "colab": {
      "provenance": []
    },
    "kernelspec": {
      "name": "python3",
      "display_name": "Python 3"
    },
    "language_info": {
      "name": "python"
    }
  },
  "cells": [
    {
      "cell_type": "markdown",
      "source": [
        "MST Python Day 3 Practice Problems"
      ],
      "metadata": {
        "id": "B_kI2xLQiNFO"
      }
    },
    {
      "cell_type": "markdown",
      "source": [
        "1. Given the participants' score sheet for your University Sports Day, you are required to\n",
        "find the runner-up score. You are given scores. Store them in a list and find the score of\n",
        "the runner-up. (Create an array of scores and print the runner up score)"
      ],
      "metadata": {
        "id": "tLY6wyQ0iZbJ"
      }
    },
    {
      "cell_type": "code",
      "execution_count": 4,
      "metadata": {
        "colab": {
          "base_uri": "https://localhost:8080/"
        },
        "id": "l_Cpb1JmboYA",
        "outputId": "c86ea9d6-65d9-4e62-f9a6-b4c77cdc6405"
      },
      "outputs": [
        {
          "output_type": "stream",
          "name": "stdout",
          "text": [
            "Sorted list in ascending order: [25, 37, 48, 67, 72, 98]\n",
            "The one who scores 72 is the runner_up.\n"
          ]
        }
      ],
      "source": [
        "score_list = [67, 72, 25, 48, 37, 98]\n",
        "sorted_list = sorted(score_list)\n",
        "print(\"Sorted list in ascending order:\", sorted_list)\n",
        "# The second highest score represents the runner-up score.\n",
        "print('The one who scores', sorted_list[4], 'is the runner_up.')"
      ]
    },
    {
      "cell_type": "markdown",
      "source": [
        "2. A dictionary is given D={‘John’ [25,32,43],’Peter’:[87,55,96],’Ram’:[58,55,43],’Meena’:[63,79,85]}\n",
        "Get a name from user if the name in the dictionary change the values corresponding to\n",
        "that user to [88,77,99] and print the dictionary. Else print ‘Name not found’."
      ],
      "metadata": {
        "id": "Ro4AK7coiojz"
      }
    },
    {
      "cell_type": "code",
      "source": [
        "D = {'John':[25, 32, 43],'Peter':[87, 55, 96],'Ram':[58, 55, 43],'Meena':[63, 79, 85]}\n",
        "\n",
        "name = input(\"Enter a name: \")\n",
        "if name in D:\n",
        "    D[name] = [88, 77, 99]\n",
        "    print(\"Values has been changed\")\n",
        "    print(D)\n",
        "else:\n",
        "    print(\"Name not found.\")"
      ],
      "metadata": {
        "colab": {
          "base_uri": "https://localhost:8080/"
        },
        "id": "9EBDEHbhiwgn",
        "outputId": "bc220b99-a8d8-4a23-fa51-6c8b8d2c2d24"
      },
      "execution_count": 6,
      "outputs": [
        {
          "output_type": "stream",
          "name": "stdout",
          "text": [
            "Enter a name: Ram\n",
            "Values has been changed\n",
            "{'John': [25, 32, 43], 'Peter': [87, 55, 96], 'Ram': [88, 77, 99], 'Meena': [63, 79, 85]}\n"
          ]
        }
      ]
    },
    {
      "cell_type": "markdown",
      "source": [
        "3. Ticket Price Calculator:\n",
        "I. Ask the user to enter their age.\n",
        "II. Use control statements (if-elif-else) to calculate the ticket price based on the following conditions:\n",
        "a. If the age is below 5, the ticket price is free.\n",
        "b. If the age is between 5 and 12 (inclusive), the ticket price is Rs.10.\n",
        "c. If the age is above 12, the ticket price is Rs.50.\n",
        "d. If the age is above 60, the ticket price is free.\n",
        "e. If the gender is female, the ticket price is 50% of the applicable rates.\n",
        "III. Display the ticket price to the user."
      ],
      "metadata": {
        "id": "Jv2nd-EulrFU"
      }
    },
    {
      "cell_type": "code",
      "source": [
        "while True:\n",
        "    age = input(\"Enter your age: \")\n",
        "    if age == 'quit':\n",
        "        break\n",
        "    gender = input(\"Enter your gender: \")\n",
        "    age = int(age)\n",
        "    if age < 5 and gender == 'male':\n",
        "        print(\"You get in free!\")\n",
        "    elif 5 <= age <= 12 and gender == 'male':\n",
        "        print(\"Your ticket is Rs 10.\")\n",
        "    elif 12 < age <= 60 and gender == 'male':\n",
        "        print(\"Your ticket is Rs 50.\")\n",
        "    elif age > 60 and gender == 'male':\n",
        "        print(\"You get in free!\")\n",
        "    elif age < 5 and gender == 'female':\n",
        "        print(\"You get in free!\")\n",
        "    elif 5 <= age <= 12 and gender == 'female':\n",
        "        print(\"Your ticket is Rs 5.\")\n",
        "    elif 12 < age <= 60 and gender == 'female':\n",
        "        print(\"Your ticket is Rs 25.\")\n",
        "    else:\n",
        "        print(\"Ticket is free\")"
      ],
      "metadata": {
        "colab": {
          "base_uri": "https://localhost:8080/"
        },
        "id": "F47R7m9co9hQ",
        "outputId": "e880e521-c289-4940-fccd-01b58d6374aa"
      },
      "execution_count": 8,
      "outputs": [
        {
          "name": "stdout",
          "output_type": "stream",
          "text": [
            "Enter your age: 60\n",
            "Enter your gender: female\n",
            "Your ticket is Rs 25.\n",
            "Enter your age: 12\n",
            "Enter your gender: female\n",
            "Your ticket is Rs 5.\n",
            "Enter your age: 12\n",
            "Enter your gender: male\n",
            "Your ticket is Rs 10.\n",
            "Enter your age: quit\n"
          ]
        }
      ]
    }
  ]
}